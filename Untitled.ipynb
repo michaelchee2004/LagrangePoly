{
 "cells": [
  {
   "cell_type": "code",
   "execution_count": 1,
   "metadata": {},
   "outputs": [],
   "source": [
    "import numpy\n"
   ]
  },
  {
   "cell_type": "markdown",
   "metadata": {},
   "source": [
    "# Orthorgonal collocation\n",
    "\n",
    "We consider the following ODE:<br/>\n",
    "$\\dot{x} = f(x, t)$\n",
    "\n",
    "Theoretically, if we move things around we should get the difference being zero:<br/>\n",
    "$\\dot{x} - f(x, t) = 0$\n",
    "\n",
    "Assume they are not the same, and represent the residual:<br/>\n",
    "$\\dot{x} - f(x, t) = R(t)$\n",
    "\n",
    "We could approximate x as a polynomial:<br/>\n",
    "$x(t) = a_0 + a_1t + a_2t^2 + ... + a_Nt^N$\n",
    "\n",
    "Then we enforce at particular points t, the residual goes to zero. <br/>\n",
    "Then we can have:<br/>\n",
    "$\\dot{a_0 + a_1t + a_2t^2 + ... + a_Nt^N} - f(x, t) = R(t) $\n",
    "\n",
    "The derivative of a polynomial is well known, so we can differentiate it and re-write it as a Lagrange polynomial.\n",
    "f is basically the state equation so it is given.\n",
    "\n",
    "Note for a polynomial of order N, we need N+1 points.\n",
    "But for Initial Value Problem (IVP), we have \n",
    "$ x(t_0) = x_0 $\n",
    "which needs to be put in as another equation.\n",
    "\n",
    "So we need the initial point, and then N points after.\n"
   ]
  },
  {
   "cell_type": "markdown",
   "metadata": {},
   "source": [
    "## Example problem\n",
    "\n",
    "Solve:\n",
    "$ \\dot{x}(t) = -x(t) + w_1 $ <br/>\n",
    "$ t [0, 1] $ <br/>\n",
    "$ x_0 = w_2 $ <br/>\n"
   ]
  },
  {
   "cell_type": "markdown",
   "metadata": {},
   "source": [
    "z dot = z2 - 2z + 1, z = -3\n",
    "\n",
    "l = (t-t0)/(tk - t0) \n",
    "l' = 1/(tk-t0)\n",
    "\n",
    "l = (t-t0)/(tk - t0) * (t - t1)/(tk - t1) \n",
    "l = (t^2 - tt1 - t0t+ t0^2)/(tk^2 - tkt1 - t0tk + t0t1)\n",
    "l = (t^2 - 0.2t)/("
   ]
  }
 ],
 "metadata": {
  "kernelspec": {
   "display_name": "Python 3",
   "language": "python",
   "name": "python3"
  },
  "language_info": {
   "codemirror_mode": {
    "name": "ipython",
    "version": 3
   },
   "file_extension": ".py",
   "mimetype": "text/x-python",
   "name": "python",
   "nbconvert_exporter": "python",
   "pygments_lexer": "ipython3",
   "version": "3.6.5"
  }
 },
 "nbformat": 4,
 "nbformat_minor": 2
}
