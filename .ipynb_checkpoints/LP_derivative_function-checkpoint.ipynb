{
 "cells": [
  {
   "cell_type": "markdown",
   "metadata": {},
   "source": [
    "# Testing Lagrange polynomial in pyomo"
   ]
  },
  {
   "cell_type": "code",
   "execution_count": 41,
   "metadata": {},
   "outputs": [
    {
     "data": {
      "text/plain": [
       "3.6666666666666665"
      ]
     },
     "execution_count": 41,
     "metadata": {},
     "output_type": "execute_result"
    }
   ],
   "source": [
    "from pyomo.environ import *\n",
    "\n",
    "m = ConcreteModel()\n",
    "\n",
    "tau_initial = {}\n",
    "tau_initial[0]=0\n",
    "tau_initial[1]=1\n",
    "tau_initial[2]=2\n",
    "tau_initial[3]=3\n",
    "\n",
    "f_initial = {}\n",
    "f_initial[0]=0\n",
    "f_initial[1]=2\n",
    "f_initial[2]=1\n",
    "f_initial[3]=2\n",
    "\n",
    "m.tstep = Set(initialize=[0,1,2,3], ordered=True)\n",
    "m.tau = Param(m.tstep, initialize=tau_initial)\n",
    "m.f = Param(m.tstep, initialize=f_initial)\n",
    "\n",
    "def l_coeff(tstep, j):\n",
    "    v = 0\n",
    "    for i in [i for i in range(len(m.tstep)) if i != j]:    \n",
    "        c = 1\n",
    "        for k in [k for k in range(len(m.tstep)) if (k != i and k != j)]:\n",
    "            c = c * (m.tau[tstep] - m.tau[k])/(m.tau[j] - m.tau[k])\n",
    "        c = c /(m.tau[j] - m.tau[i])\n",
    "        v = v + c\n",
    "    return v\n",
    "        \n",
    "def l(tstep):\n",
    "    return sum(m.f[i] * l_coeff(tstep, i) for i in m.tstep)\n",
    "\n",
    "l(3)"
   ]
  }
 ],
 "metadata": {
  "kernelspec": {
   "display_name": "Python 3",
   "language": "python",
   "name": "python3"
  },
  "language_info": {
   "codemirror_mode": {
    "name": "ipython",
    "version": 3
   },
   "file_extension": ".py",
   "mimetype": "text/x-python",
   "name": "python",
   "nbconvert_exporter": "python",
   "pygments_lexer": "ipython3",
   "version": "3.6.5"
  }
 },
 "nbformat": 4,
 "nbformat_minor": 2
}
