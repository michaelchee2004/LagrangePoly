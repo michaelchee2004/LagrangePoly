{
 "cells": [
  {
   "cell_type": "code",
   "execution_count": null,
   "metadata": {},
   "outputs": [],
   "source": [
    "import numpy as np\n"
   ]
  },
  {
   "cell_type": "markdown",
   "metadata": {},
   "source": [
    "# Lagrange polynomial\n",
    "\n",
    "We would like to represent a curve that goes through N points.\n",
    "This could be achieved by a polynomial of degree N-1.\n",
    "\n",
    "$p = a_{0} + a_{1}t + a_{2}t^2 + ... + a_Nt^N $\n",
    "\n",
    "Consider that the polynomial goes through points at t<sub>k</sub>, k = 0...N\n",
    "\n",
    "\n",
    "Rewrite as: <br/>\n",
    "$p = w_0L_0^N(t) + w_1L_1^N(t)  + ... w_NL_N^N(t) $\n",
    "\n",
    "where:\n",
    "\n",
    "$ w_k = p (above)$, but $t$ replaced by $t_k$\n",
    "\n",
    "$L_k^N(t) = \\frac {t - t_0}{t_k - t_0} \\times \\frac {t - t_1}{t_k - t_1} \\times ... \\times \\frac {t - t_N}{t_k - t_N}$ Except term for $t_k$\n",
    "\n",
    "\n",
    "Notice: <br/> \n",
    "- $w_k$ is a constant referring to the value of $p$ at $t_k$. <br/>\n",
    "- observe $L_k^N(t)$, when $t = t_k$, the numerator and denominator of each term cancel out. <br/>\n",
    "  At the same time for $L_j^N(t)$, there is at least one term where the numerator goes to zero. <br/>\n",
    "  Effectively, at $t_k$ the coefficients of all $w_j$ go to 0, except $w_k$ which goes to 1.\n",
    "  "
   ]
  },
  {
   "cell_type": "code",
   "execution_count": 4,
   "metadata": {},
   "outputs": [
    {
     "data": {
      "text/plain": [
       "0.0"
      ]
     },
     "execution_count": 4,
     "metadata": {},
     "output_type": "execute_result"
    }
   ],
   "source": [
    "w0 = 0\n",
    "w1 = 2\n",
    "w2 = 1\n",
    "w3 = 2\n",
    "\n",
    "def L1(t):\n",
    "    k = 1\n",
    "    return (t - 0)/(k - 0) * (t - 2)/(k - 2) * (t - 3)/(k - 3)\n",
    "\n",
    "def L2(t):\n",
    "    k = 2\n",
    "    return (t - 0)/(k - 0) * (t - 1)/(k - 1) * (t - 3)/(k - 3)\n",
    "    \n",
    "def L3(t):\n",
    "    k = 3\n",
    "    return (t - 0)/(k - 0) * (t - 1)/(k - 1) * (t - 2)/(k - 2)\n",
    "\n",
    "def p(t):\n",
    "    return w1 * L1(t) + w2 * L2(t) + w3 * L3(t)\n",
    "\n",
    "p(0)\n",
    "    \n",
    "    "
   ]
  }
 ],
 "metadata": {
  "kernelspec": {
   "display_name": "Python 3",
   "language": "python",
   "name": "python3"
  },
  "language_info": {
   "codemirror_mode": {
    "name": "ipython",
    "version": 3
   },
   "file_extension": ".py",
   "mimetype": "text/x-python",
   "name": "python",
   "nbconvert_exporter": "python",
   "pygments_lexer": "ipython3",
   "version": "3.6.5"
  }
 },
 "nbformat": 4,
 "nbformat_minor": 2
}
